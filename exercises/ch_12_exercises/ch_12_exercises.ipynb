{
 "cells": [
  {
   "cell_type": "code",
   "execution_count": null,
   "id": "07308d9e",
   "metadata": {},
   "outputs": [],
   "source": [
    "# Import relevant packages\n",
    "import pandas as pd\n",
    "import seaborn as sns\n",
    "import matplotlib.pyplot as plt\n",
    "from openpyxl import Workbook\n",
    "from openpyxl.chart import ScatterChart, Reference, Series\n",
    "from openpyxl.drawing.image import Image\n",
    "from openpyxl.utils.dataframe import dataframe_to_rows\n",
    "from openpyxl.utils import get_column_letter\n",
    "from openpyxl.utils.dataframe import dataframe_to_rows\n",
    "from openpyxl.worksheet.table import Table, TableStyleInfo\n",
    "from openpyxl.styles import PatternFill"
   ]
  },
  {
   "cell_type": "code",
   "execution_count": null,
   "id": "0d8d1a9f",
   "metadata": {},
   "outputs": [],
   "source": [
    "# Read in the dataset \n",
    "websites = pd.____('websites.xlsx')"
   ]
  },
  {
   "cell_type": "code",
   "execution_count": null,
   "id": "edfaed8a",
   "metadata": {},
   "outputs": [],
   "source": [
    "# Print first five rows\n",
    "websites.____"
   ]
  },
  {
   "cell_type": "code",
   "execution_count": null,
   "id": "90f00173",
   "metadata": {},
   "outputs": [],
   "source": [
    "# Find number of rows, columns, data types, and so forth\n",
    "websites.____"
   ]
  },
  {
   "cell_type": "code",
   "execution_count": null,
   "id": "ba31846d",
   "metadata": {},
   "outputs": [],
   "source": [
    "# Drop rows with bad URL\n",
    "\n",
    "## Create regular expressions pattern \n",
    "url_pattern = r'^(?:(?:https?|ftp):\\/\\/)?(?:www\\.)?[a-zA-Z0-9.-]+\\.[a-zA-Z]{2,}(?:\\/[^\\s]*)?$'\n",
    "\n",
    "## Keep only rows matching pattern \n",
    "valid_urls = websites[websites[____].str.contains(____)]\n",
    "\n",
    "# Check resulting DataFrame\n",
    "____.shape"
   ]
  },
  {
   "cell_type": "code",
   "execution_count": null,
   "id": "8929e31b",
   "metadata": {},
   "outputs": [],
   "source": [
    "# Sort missing values by column from high to low\n",
    "valid_urls.____().____().____(ascending=False)"
   ]
  },
  {
   "cell_type": "code",
   "execution_count": null,
   "id": "dec4f513",
   "metadata": {},
   "outputs": [],
   "source": [
    "# Drop remaining missing values\n",
    "complete_cases = valid_urls.____()\n",
    "\n",
    "# Check results\n",
    "complete_cases.info()"
   ]
  },
  {
   "cell_type": "code",
   "execution_count": null,
   "id": "8e06d214",
   "metadata": {},
   "outputs": [],
   "source": [
    "# Create worksheet and workbook objects in openpyxl\n",
    "\n",
    "wb = Workbook()\n",
    "ws = wb.active\n",
    "___.title = 'summary'"
   ]
  },
  {
   "cell_type": "code",
   "execution_count": null,
   "id": "505c23a2",
   "metadata": {},
   "outputs": [],
   "source": [
    "# Generate a summary worksheet \n",
    "ws['A1'] = 'Total number of websites'\n",
    "ws['B1'] = len(complete_cases)"
   ]
  },
  {
   "cell_type": "code",
   "execution_count": null,
   "id": "74b3afc9",
   "metadata": {},
   "outputs": [],
   "source": [
    "____['A2'] = 'Total number of visitors'\n",
    "____['B2'] = round(complete_cases['visitors'].sum())"
   ]
  },
  {
   "cell_type": "code",
   "execution_count": null,
   "id": "7143943c",
   "metadata": {},
   "outputs": [],
   "source": [
    "ws['A3'] = 'Average number of visitors'\n",
    "ws['B3'] = round(complete_cases['rating'].mean(), 2)"
   ]
  },
  {
   "cell_type": "code",
   "execution_count": null,
   "id": "60fc80e4",
   "metadata": {},
   "outputs": [],
   "source": [
    "# Widen Column A\n",
    "ws.column_dimensions[____].____ = 40"
   ]
  },
  {
   "cell_type": "code",
   "execution_count": null,
   "id": "270a573a",
   "metadata": {},
   "outputs": [],
   "source": [
    "# Apply thousands separator format to `B2`\n",
    "thousands_format = '#,##0'\n",
    "ws[____].number_format = ____"
   ]
  },
  {
   "cell_type": "code",
   "execution_count": null,
   "id": "04ac1668",
   "metadata": {},
   "outputs": [],
   "source": [
    "# Add DataFrame to new worksheet\n",
    "\n",
    "ws2 = wb.create_sheet(title='data')\n",
    "\n",
    "for row in ____(____, index=False, header=True):\n",
    "    ws2.append(row)"
   ]
  },
  {
   "cell_type": "code",
   "execution_count": null,
   "id": "b67487c8",
   "metadata": {},
   "outputs": [],
   "source": [
    "# Autofit the dataset widths\n",
    "\n",
    "for column in ws2.columns:\n",
    "    max_length = 0\n",
    "    column = list(column)\n",
    "    for cell in column:\n",
    "        try:\n",
    "            if len(str(cell.value)) > max_length:\n",
    "                max_length = len(cell.value)\n",
    "        except:\n",
    "            pass\n",
    "    adjusted_width = (max_length + 2) * 1.2\n",
    "    ws2.column_dimensions[column[0].column_letter].width = adjusted_width"
   ]
  },
  {
   "cell_type": "code",
   "execution_count": null,
   "id": "21f0d3bb",
   "metadata": {},
   "outputs": [],
   "source": [
    "# Add table\n",
    "\n",
    "# Specify desired table formatting\n",
    "style = TableStyleInfo(name='TableStyleMedium9', showRowStripes=True)\n",
    "\n",
    "# Name and identify range of table\n",
    "table = Table(displayName='websites',\n",
    "              ref='A1:' + get_column_letter(ws2.max_column) + str(ws2.max_row))\n",
    "\n",
    "# Apply styling and insert in worksheet\n",
    "table.tableStyleInfo = ____\n",
    "ws2.add_table(____)"
   ]
  },
  {
   "cell_type": "code",
   "execution_count": null,
   "id": "0c10d04e",
   "metadata": {},
   "outputs": [],
   "source": [
    "# Format the Visitors column in thousands\n",
    "\n",
    "## Get the index position (convert b/w zero- and one-based)\n",
    "visitors_loc = complete_cases.columns.get_loc('visitors') + 1\n",
    "visitors_loc\n",
    "\n",
    "## Loop and apply formatting \n",
    "for cell in ws2.iter_cols(min_col=visitors_loc, max_col=visitors_loc):\n",
    "    for cell in cell:\n",
    "        cell.number_format = thousands_format"
   ]
  },
  {
   "cell_type": "code",
   "execution_count": null,
   "id": "5d58d9ae",
   "metadata": {},
   "outputs": [],
   "source": [
    "# Conditionally format rows with rating over 4.5 as green\n",
    "\n",
    "## Create green fill\n",
    "green_fill = PatternFill(start_color=\"B9E8A2\", end_color=\"B9E8A2\", fill_type=\"solid\")\n",
    "\n",
    "## Identify position of rating column\n",
    "rating_loc = complete_cases.columns.____(____)\n",
    "\n",
    "## Apply formatting\n",
    "for row in ws2.iter_rows(min_row=2, min_col=1, max_col=len(____.____)):\n",
    "    rating = row[rating_loc].value # Convert index to 0-based indexing\n",
    "    if rating > ____:\n",
    "        for cell in row:\n",
    "            cell.fill = ____"
   ]
  },
  {
   "cell_type": "code",
   "execution_count": null,
   "id": "e4a449b0",
   "metadata": {
    "scrolled": true
   },
   "outputs": [],
   "source": [
    "# Create Python scatterplot with rating on x-axis and visitors oon y\n",
    "\n",
    "sns.scatterplot(____='rating', y=___, data=complete_cases)\n",
    "\n",
    "## Add title and save plot\n",
    "plt.title('Rating versus visitors by website')\n",
    "plt.savefig('scatterplot.png')\n",
    "\n",
    "## Write plot into workbook\n",
    "image = Image(____)\n",
    "ws2.add_image(____, 'G1')"
   ]
  },
  {
   "cell_type": "code",
   "execution_count": null,
   "id": "bf344fec",
   "metadata": {},
   "outputs": [],
   "source": [
    "# Save as `ch_12_exercise_solutions.xlsx` and close\n",
    "wb.____('ch_12_exercise_solutions.xlsx')\n",
    "wb.____"
   ]
  }
 ],
 "metadata": {
  "kernelspec": {
   "display_name": "Python 3 (ipykernel)",
   "language": "python",
   "name": "python3"
  },
  "language_info": {
   "codemirror_mode": {
    "name": "ipython",
    "version": 3
   },
   "file_extension": ".py",
   "mimetype": "text/x-python",
   "name": "python",
   "nbconvert_exporter": "python",
   "pygments_lexer": "ipython3",
   "version": "3.9.16"
  }
 },
 "nbformat": 4,
 "nbformat_minor": 5
}
