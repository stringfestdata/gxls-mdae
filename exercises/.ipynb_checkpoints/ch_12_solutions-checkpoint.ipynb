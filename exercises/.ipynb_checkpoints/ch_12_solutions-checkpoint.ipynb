{
 "cells": [
  {
   "cell_type": "code",
   "execution_count": 1,
   "id": "07308d9e",
   "metadata": {},
   "outputs": [],
   "source": [
    "# Import relevant packages\n",
    "import pandas as pd\n",
    "import seaborn as sns\n",
    "import matplotlib.pyplot as plt\n",
    "from openpyxl import Workbook\n",
    "from openpyxl.chart import ScatterChart, Reference, Series\n",
    "from openpyxl.drawing.image import Image\n",
    "from openpyxl.utils.dataframe import dataframe_to_rows\n",
    "from openpyxl.utils import get_column_letter\n",
    "from openpyxl.utils.dataframe import dataframe_to_rows\n",
    "from openpyxl.worksheet.table import Table, TableStyleInfo\n",
    "from openpyxl.styles import PatternFill"
   ]
  },
  {
   "cell_type": "code",
   "execution_count": 2,
   "id": "5747bd18",
   "metadata": {},
   "outputs": [],
   "source": [
    "# Read in the dataset \n",
    "websites = pd.read_excel('../datasets/websites.xlsx')"
   ]
  },
  {
   "cell_type": "code",
   "execution_count": 3,
   "id": "edfaed8a",
   "metadata": {},
   "outputs": [
    {
     "data": {
      "text/html": [
       "<div>\n",
       "<style scoped>\n",
       "    .dataframe tbody tr th:only-of-type {\n",
       "        vertical-align: middle;\n",
       "    }\n",
       "\n",
       "    .dataframe tbody tr th {\n",
       "        vertical-align: top;\n",
       "    }\n",
       "\n",
       "    .dataframe thead th {\n",
       "        text-align: right;\n",
       "    }\n",
       "</style>\n",
       "<table border=\"1\" class=\"dataframe\">\n",
       "  <thead>\n",
       "    <tr style=\"text-align: right;\">\n",
       "      <th></th>\n",
       "      <th>URL</th>\n",
       "      <th>Category</th>\n",
       "      <th>Rating</th>\n",
       "      <th>Visitors</th>\n",
       "    </tr>\n",
       "  </thead>\n",
       "  <tbody>\n",
       "    <tr>\n",
       "      <th>0</th>\n",
       "      <td>https://www.example.com</td>\n",
       "      <td>News</td>\n",
       "      <td>4.5</td>\n",
       "      <td>10000.0</td>\n",
       "    </tr>\n",
       "    <tr>\n",
       "      <th>1</th>\n",
       "      <td>https://www.invalidurl</td>\n",
       "      <td>Technology</td>\n",
       "      <td>3.2</td>\n",
       "      <td>5000.0</td>\n",
       "    </tr>\n",
       "    <tr>\n",
       "      <th>2</th>\n",
       "      <td>https://www.openai.org</td>\n",
       "      <td>Finance</td>\n",
       "      <td>4.8</td>\n",
       "      <td>20000.0</td>\n",
       "    </tr>\n",
       "    <tr>\n",
       "      <th>3</th>\n",
       "      <td>https://www.example2.com</td>\n",
       "      <td>Education</td>\n",
       "      <td>4.2</td>\n",
       "      <td>15000.0</td>\n",
       "    </tr>\n",
       "    <tr>\n",
       "      <th>4</th>\n",
       "      <td>https://www.invalidurl2</td>\n",
       "      <td>News</td>\n",
       "      <td>2.9</td>\n",
       "      <td>3000.0</td>\n",
       "    </tr>\n",
       "  </tbody>\n",
       "</table>\n",
       "</div>"
      ],
      "text/plain": [
       "                        URL    Category  Rating  Visitors\n",
       "0   https://www.example.com        News     4.5   10000.0\n",
       "1    https://www.invalidurl  Technology     3.2    5000.0\n",
       "2    https://www.openai.org     Finance     4.8   20000.0\n",
       "3  https://www.example2.com   Education     4.2   15000.0\n",
       "4   https://www.invalidurl2        News     2.9    3000.0"
      ]
     },
     "execution_count": 3,
     "metadata": {},
     "output_type": "execute_result"
    }
   ],
   "source": [
    "# Print first five rows\n",
    "websites.head()"
   ]
  },
  {
   "cell_type": "code",
   "execution_count": 4,
   "id": "90f00173",
   "metadata": {},
   "outputs": [
    {
     "name": "stdout",
     "output_type": "stream",
     "text": [
      "<class 'pandas.core.frame.DataFrame'>\n",
      "RangeIndex: 34 entries, 0 to 33\n",
      "Data columns (total 4 columns):\n",
      " #   Column    Non-Null Count  Dtype  \n",
      "---  ------    --------------  -----  \n",
      " 0   URL       34 non-null     object \n",
      " 1   Category  34 non-null     object \n",
      " 2   Rating    32 non-null     float64\n",
      " 3   Visitors  32 non-null     float64\n",
      "dtypes: float64(2), object(2)\n",
      "memory usage: 1.2+ KB\n"
     ]
    }
   ],
   "source": [
    "# Find number of rows, columns, data types, and so forth\n",
    "websites.info()"
   ]
  },
  {
   "cell_type": "code",
   "execution_count": 5,
   "id": "ba31846d",
   "metadata": {},
   "outputs": [
    {
     "data": {
      "text/plain": [
       "(28, 4)"
      ]
     },
     "execution_count": 5,
     "metadata": {},
     "output_type": "execute_result"
    }
   ],
   "source": [
    "# Drop rows with bad URL\n",
    "\n",
    "## Create regular expressions pattern \n",
    "url_pattern = r'^(?:(?:https?|ftp):\\/\\/)?(?:www\\.)?[a-zA-Z0-9.-]+\\.[a-zA-Z]{2,}(?:\\/[^\\s]*)?$'\n",
    "\n",
    "## Keep only rows matching pattern \n",
    "valid_urls = websites[websites['URL'].str.contains(url_pattern)]\n",
    "\n",
    "# Check resulting DataFrame\n",
    "valid_urls.shape"
   ]
  },
  {
   "cell_type": "code",
   "execution_count": 6,
   "id": "8929e31b",
   "metadata": {},
   "outputs": [
    {
     "data": {
      "text/plain": [
       "Visitors    0.071429\n",
       "URL         0.000000\n",
       "Category    0.000000\n",
       "Rating      0.000000\n",
       "dtype: float64"
      ]
     },
     "execution_count": 6,
     "metadata": {},
     "output_type": "execute_result"
    }
   ],
   "source": [
    "# Sort missing values by column from high to low\n",
    "valid_urls.isnull().mean().sort_values(ascending=False)"
   ]
  },
  {
   "cell_type": "code",
   "execution_count": 7,
   "id": "dec4f513",
   "metadata": {},
   "outputs": [
    {
     "name": "stdout",
     "output_type": "stream",
     "text": [
      "<class 'pandas.core.frame.DataFrame'>\n",
      "Int64Index: 26 entries, 0 to 33\n",
      "Data columns (total 4 columns):\n",
      " #   Column    Non-Null Count  Dtype  \n",
      "---  ------    --------------  -----  \n",
      " 0   URL       26 non-null     object \n",
      " 1   Category  26 non-null     object \n",
      " 2   Rating    26 non-null     float64\n",
      " 3   Visitors  26 non-null     float64\n",
      "dtypes: float64(2), object(2)\n",
      "memory usage: 1.0+ KB\n"
     ]
    }
   ],
   "source": [
    "# Drop remaining missing values\n",
    "complete_cases = valid_urls.dropna()\n",
    "\n",
    "# Check results\n",
    "complete_cases.info()"
   ]
  },
  {
   "cell_type": "code",
   "execution_count": 8,
   "id": "8e06d214",
   "metadata": {},
   "outputs": [],
   "source": [
    "# Create worksheet and workbook objects in openpyxl\n",
    "\n",
    "wb = Workbook()\n",
    "ws = wb.active\n",
    "ws.title = 'summary'"
   ]
  },
  {
   "cell_type": "code",
   "execution_count": 9,
   "id": "505c23a2",
   "metadata": {},
   "outputs": [],
   "source": [
    "# Generate a summary worksheet \n",
    "ws['A1'] = 'Total number of websites'\n",
    "ws['B1'] = len(complete_cases)"
   ]
  },
  {
   "cell_type": "code",
   "execution_count": 10,
   "id": "74b3afc9",
   "metadata": {},
   "outputs": [],
   "source": [
    "ws['A2'] = 'Total number of visitors'\n",
    "ws['B2'] = round(complete_cases['Visitors'].sum())"
   ]
  },
  {
   "cell_type": "code",
   "execution_count": 11,
   "id": "7143943c",
   "metadata": {},
   "outputs": [],
   "source": [
    "ws['A3'] = 'Average number of visitors'\n",
    "ws['B3'] = round(complete_cases['Rating'].mean(), 2)"
   ]
  },
  {
   "cell_type": "code",
   "execution_count": 12,
   "id": "60fc80e4",
   "metadata": {},
   "outputs": [],
   "source": [
    "# Widen Column A\n",
    "ws.column_dimensions['A'].width = 40"
   ]
  },
  {
   "cell_type": "code",
   "execution_count": 13,
   "id": "270a573a",
   "metadata": {},
   "outputs": [],
   "source": [
    "# Apply thousands separator format to `B2`\n",
    "thousands_format = '#,##0'\n",
    "ws['B2'].number_format = thousands_format"
   ]
  },
  {
   "cell_type": "code",
   "execution_count": 14,
   "id": "04ac1668",
   "metadata": {},
   "outputs": [],
   "source": [
    "# Add DataFrame to new worksheet\n",
    "\n",
    "ws2 = wb.create_sheet(title='data')\n",
    "\n",
    "for row in dataframe_to_rows(complete_cases, index=False, header=True):\n",
    "    ws2.append(row)"
   ]
  },
  {
   "cell_type": "code",
   "execution_count": 15,
   "id": "78dbd937",
   "metadata": {},
   "outputs": [],
   "source": [
    "# Autofit the dataset widths\n",
    "\n",
    "for column in ws2.columns:\n",
    "    max_length = 0\n",
    "    column = list(column)\n",
    "    for cell in column:\n",
    "        try:\n",
    "            if len(str(cell.value)) > max_length:\n",
    "                max_length = len(cell.value)\n",
    "        except:\n",
    "            pass\n",
    "    adjusted_width = (max_length + 2) * 1.2\n",
    "    ws2.column_dimensions[column[0].column_letter].width = adjusted_width"
   ]
  },
  {
   "cell_type": "code",
   "execution_count": 16,
   "id": "3c67ca80",
   "metadata": {},
   "outputs": [],
   "source": [
    "# Add table\n",
    "\n",
    "# Specify desired table formatting\n",
    "style = TableStyleInfo(name='TableStyleMedium9', showRowStripes=True)\n",
    "\n",
    "# Name and identify range of table\n",
    "table = Table(displayName='ratings',\n",
    "              ref='A1:' + get_column_letter(ws2.max_column) + str(ws2.max_row))\n",
    "\n",
    "# Apply styling and insert in worksheet\n",
    "table.tableStyleInfo = style\n",
    "ws2.add_table(table)"
   ]
  },
  {
   "cell_type": "code",
   "execution_count": 17,
   "id": "a6672d7e",
   "metadata": {},
   "outputs": [],
   "source": [
    "# Format the Visitors column in thousands\n",
    "\n",
    "## Get the index position \n",
    "visitors_loc = complete_cases.columns.get_loc('Visitors') + 1\n",
    "visitors_loc\n",
    "\n",
    "## Loop and apply formatting \n",
    "for cell in ws2.iter_cols(min_col=visitors_loc, max_col=visitors_loc):\n",
    "    for cell in cell:\n",
    "        cell.number_format = thousands_format"
   ]
  },
  {
   "cell_type": "code",
   "execution_count": 18,
   "id": "10020d9c",
   "metadata": {},
   "outputs": [],
   "source": [
    "# Conditionally format rows with rating over 4.5 as green\n",
    "\n",
    "## Create green fill\n",
    "green_fill = PatternFill(start_color=\"B9E8A2\", end_color=\"B9E8A2\", fill_type=\"solid\")\n",
    "\n",
    "## Identify position of rating column\n",
    "rating_loc = complete_cases.columns.get_loc('Rating')\n",
    "\n",
    "## Apply formatting\n",
    "for row in ws2.iter_rows(min_row=2, min_col=1, max_col=len(complete_cases.columns)):\n",
    "    rating = row[rating_loc].value # Convert index to 0-based indexing\n",
    "    if rating > 4.5:\n",
    "        for cell in row:\n",
    "            cell.fill = green_fill"
   ]
  },
  {
   "cell_type": "code",
   "execution_count": 19,
   "id": "cad8a6b6",
   "metadata": {
    "scrolled": true
   },
   "outputs": [
    {
     "data": {
      "image/png": "[encoded data removed]",
      "text/plain": [
       "<Figure size 640x480 with 1 Axes>"
      ]
     },
     "metadata": {},
     "output_type": "display_data"
    }
   ],
   "source": [
    "# Create Python scatterplot of the same\n",
    "\n",
    "sns.scatterplot(x='Rating', y='Visitors', data=complete_cases)\n",
    "\n",
    "## Add title and save plot\n",
    "plt.title('Rating versus visitors by website')\n",
    "plt.savefig('scatterplot.png')\n",
    "\n",
    "## Write plot into workbook\n",
    "image = Image('scatterplot.png')\n",
    "ws2.add_image(image, 'G17')"
   ]
  },
  {
   "cell_type": "code",
   "execution_count": 20,
   "id": "7a823bdb",
   "metadata": {},
   "outputs": [],
   "source": [
    "# Save as `ch_12_solutions.xlsx` and close\n",
    "wb.save('ch_12_solutions.xlsx')\n",
    "wb.close()"
   ]
  }
 ],
 "metadata": {
  "kernelspec": {
   "display_name": "Python 3 (ipykernel)",
   "language": "python",
   "name": "python3"
  },
  "language_info": {
   "codemirror_mode": {
    "name": "ipython",
    "version": 3
   },
   "file_extension": ".py",
   "mimetype": "text/x-python",
   "name": "python",
   "nbconvert_exporter": "python",
   "pygments_lexer": "ipython3",
   "version": "3.9.16"
  }
 },
 "nbformat": 4,
 "nbformat_minor": 5
}
